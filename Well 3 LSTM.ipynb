{
 "cells": [
  {
   "cell_type": "code",
   "execution_count": 221,
   "metadata": {},
   "outputs": [],
   "source": [
    "import pandas as pd\n",
    "from pandas import Series\n",
    "from pandas import read_csv\n",
    "from pandas import concat\n",
    "from pandas import DataFrame\n",
    "from sklearn.metrics import mean_squared_error\n",
    "from sklearn.preprocessing import MinMaxScaler\n",
    "from keras.models import Sequential\n",
    "from keras.layers import Dense\n",
    "from keras.layers import LSTM\n",
    "from math import sqrt\n",
    "from matplotlib import pyplot as plt\n",
    "import numpy \n",
    "%matplotlib inline"
   ]
  },
  {
   "cell_type": "code",
   "execution_count": 222,
   "metadata": {},
   "outputs": [],
   "source": [
    "df = read_csv('well_3_clean.csv')\n",
    "series = Series(data = df['Oil Volume'])"
   ]
  },
  {
   "cell_type": "code",
   "execution_count": 223,
   "metadata": {},
   "outputs": [],
   "source": [
    "def difference(dataset, interval=1):\n",
    "    diff = list()\n",
    "    for i in range(interval, len(dataset)):\n",
    "        value = dataset[i] - dataset[i - interval]\n",
    "        diff.append(value)\n",
    "    return pd.Series(diff)"
   ]
  },
  {
   "cell_type": "code",
   "execution_count": 224,
   "metadata": {},
   "outputs": [],
   "source": [
    "def timeseries_to_supervised(data, lag=1):\n",
    "    df = DataFrame(data)\n",
    "    columns = [df.shift(i) for i in range(1, lag+1)]\n",
    "    columns.append(df)\n",
    "    df = concat(columns, axis=1)\n",
    "    df.fillna(0, inplace=True)\n",
    "    return df"
   ]
  },
  {
   "cell_type": "code",
   "execution_count": 225,
   "metadata": {},
   "outputs": [],
   "source": [
    "def inverse_difference(history, yhat, interval=1):\n",
    "    return yhat + history[-interval]"
   ]
  },
  {
   "cell_type": "code",
   "execution_count": 226,
   "metadata": {},
   "outputs": [],
   "source": [
    "def scale(train, test):\n",
    "    # fit scaler\n",
    "    scaler = MinMaxScaler(feature_range=(-1, 1))\n",
    "    scaler = scaler.fit(train)\n",
    "    # transform train\n",
    "    train = train.reshape(train.shape[0], train.shape[1])\n",
    "    train_scaled = scaler.transform(train)\n",
    "    # transform test\n",
    "    test = test.reshape(test.shape[0], test.shape[1])\n",
    "    test_scaled = scaler.transform(test)\n",
    "    return scaler, train_scaled, test_scaled"
   ]
  },
  {
   "cell_type": "code",
   "execution_count": 227,
   "metadata": {},
   "outputs": [],
   "source": [
    "def invert_scale(scaler, X, value):\n",
    "    new_row = [x for x in X] + [value]\n",
    "    array = numpy.array(new_row)\n",
    "    array = array.reshape(1, len(array))\n",
    "    inverted = scaler.inverse_transform(array)\n",
    "    return inverted[0, -1]"
   ]
  },
  {
   "cell_type": "code",
   "execution_count": 228,
   "metadata": {},
   "outputs": [],
   "source": [
    "def forecast_lstm(model, batch_size, X):\n",
    "    X = X.reshape(1, 1, len(X))\n",
    "    yhat = model.predict(X, batch_size=batch_size)\n",
    "    return yhat[0,0]"
   ]
  },
  {
   "cell_type": "code",
   "execution_count": 229,
   "metadata": {},
   "outputs": [],
   "source": [
    "def create_dataset(dataset, look_back=1):\n",
    "    dataX, dataY = [], []\n",
    "    for i in range(len(dataset) - look_back-1):\n",
    "        a = dataset[i:(i+look_back), 0]\n",
    "        dataX.append(a)\n",
    "        dataY.append(dataset[i + look_back, 0])\n",
    "    return numpy.array(dataX), numpy.array(dataY)"
   ]
  },
  {
   "cell_type": "code",
   "execution_count": 230,
   "metadata": {},
   "outputs": [],
   "source": [
    "def fit_lstm(train, test, batch_size, nb_epoch, neurons):\n",
    "    X, y = train[:, 0:-1], train[:, -1]\n",
    "    X = X.reshape(X.shape[0], 1, X.shape[1])\n",
    "    Val_X = test[:, 0]\n",
    "    Val_X = Val_X.reshape((len(Val_X), 1, 1))\n",
    "    Val_Y = test[:, 1]\n",
    "    model = Sequential()\n",
    "    model.add(LSTM(neurons, batch_input_shape=(batch_size, X.shape[1], X.shape[2]), stateful=True,return_sequences=False ))\n",
    "    #second layer - make sure return_sequences=True to run this layer\n",
    "    #model.add(LSTM(neurons, batch_input_shape=(batch_size, X.shape[1], X.shape[2]), stateful=True))\n",
    "    model.add(Dense(1))\n",
    "    model.compile(loss='mean_squared_error', optimizer='adam')\n",
    "    for i in range(nb_epoch):\n",
    "        model.fit(X, y, epochs=1, batch_size=batch_size, verbose=0, shuffle=False)\n",
    "        model.reset_states()\n",
    "    history = model.fit(X, y, epochs=nb_epoch, validation_data = (Val_X, Val_Y), shuffle = False, batch_size=batch_size)\n",
    "    return model, history"
   ]
  },
  {
   "cell_type": "code",
   "execution_count": 231,
   "metadata": {},
   "outputs": [],
   "source": [
    "#Get a dataset of differenced values to make stationary\n",
    "raw_values = series.values\n",
    "diff_values = difference(raw_values, 1)"
   ]
  },
  {
   "cell_type": "code",
   "execution_count": 232,
   "metadata": {},
   "outputs": [],
   "source": [
    "#returns a dataset with the differenced dataset and a differenced dataset with a lag of 1\n",
    "supervised = timeseries_to_supervised(diff_values, 1)\n",
    "supervised_values = supervised.values"
   ]
  },
  {
   "cell_type": "code",
   "execution_count": 233,
   "metadata": {},
   "outputs": [],
   "source": [
    "#split train and test data\n",
    "split_fraction = .67\n",
    "train_size = int(len(supervised_values) * split_fraction)\n",
    "test_size = len(supervised_values) - train_size\n",
    "train, test = supervised_values[0 : train_size,:], supervised_values[train_size:len(supervised_values),:]"
   ]
  },
  {
   "cell_type": "code",
   "execution_count": 234,
   "metadata": {},
   "outputs": [],
   "source": [
    "#Scales the train and the test data\n",
    "scaler, train_scaled, test_scaled = scale(train, test)"
   ]
  },
  {
   "cell_type": "code",
   "execution_count": 235,
   "metadata": {},
   "outputs": [],
   "source": [
    "#split train and test for the history parameter\n",
    "Val_X = test_scaled[:, 0]\n",
    "Val_X = Val_X.reshape((len(Val_X), 1, 1))\n",
    "Val_Y = test_scaled[:, 1]\n",
    "\n",
    "trainX = train_scaled[:, 0]\n",
    "trainX = trainX.reshape((len(trainX), 1, 1))\n",
    "trainY = train_scaled[:, 1]"
   ]
  },
  {
   "cell_type": "code",
   "execution_count": 236,
   "metadata": {},
   "outputs": [
    {
     "name": "stdout",
     "output_type": "stream",
     "text": [
      "Train on 1316 samples, validate on 649 samples\n",
      "Epoch 1/100\n",
      "1316/1316 [==============================] - 3s 2ms/step - loss: 0.0095 - val_loss: 0.0104\n",
      "Epoch 2/100\n",
      "1316/1316 [==============================] - 3s 2ms/step - loss: 0.0095 - val_loss: 0.0104\n",
      "Epoch 3/100\n",
      "1316/1316 [==============================] - 3s 2ms/step - loss: 0.0095 - val_loss: 0.0103\n",
      "Epoch 4/100\n",
      "1316/1316 [==============================] - 3s 2ms/step - loss: 0.0095 - val_loss: 0.0103\n",
      "Epoch 5/100\n",
      "1316/1316 [==============================] - 3s 2ms/step - loss: 0.0095 - val_loss: 0.0103\n",
      "Epoch 6/100\n",
      "1316/1316 [==============================] - 3s 2ms/step - loss: 0.0095 - val_loss: 0.0103\n",
      "Epoch 7/100\n",
      "1316/1316 [==============================] - 3s 2ms/step - loss: 0.0095 - val_loss: 0.0103\n",
      "Epoch 8/100\n",
      "1316/1316 [==============================] - 3s 2ms/step - loss: 0.0095 - val_loss: 0.0103\n",
      "Epoch 9/100\n",
      "1316/1316 [==============================] - 3s 2ms/step - loss: 0.0095 - val_loss: 0.0103\n",
      "Epoch 10/100\n",
      "1316/1316 [==============================] - 3s 2ms/step - loss: 0.0094 - val_loss: 0.0103\n",
      "Epoch 11/100\n",
      "1316/1316 [==============================] - 3s 2ms/step - loss: 0.0094 - val_loss: 0.0103\n",
      "Epoch 12/100\n",
      "1316/1316 [==============================] - 3s 2ms/step - loss: 0.0094 - val_loss: 0.0103\n",
      "Epoch 13/100\n",
      "1316/1316 [==============================] - 3s 2ms/step - loss: 0.0094 - val_loss: 0.0103\n",
      "Epoch 14/100\n",
      "1316/1316 [==============================] - 3s 2ms/step - loss: 0.0094 - val_loss: 0.0103\n",
      "Epoch 15/100\n",
      "1316/1316 [==============================] - 3s 2ms/step - loss: 0.0094 - val_loss: 0.0104\n",
      "Epoch 16/100\n",
      "1316/1316 [==============================] - 3s 2ms/step - loss: 0.0094 - val_loss: 0.0104\n",
      "Epoch 17/100\n",
      "1316/1316 [==============================] - 3s 2ms/step - loss: 0.0094 - val_loss: 0.0104\n",
      "Epoch 18/100\n",
      "1316/1316 [==============================] - 3s 2ms/step - loss: 0.0094 - val_loss: 0.0104\n",
      "Epoch 19/100\n",
      "1316/1316 [==============================] - 3s 2ms/step - loss: 0.0094 - val_loss: 0.0104\n",
      "Epoch 20/100\n",
      "1316/1316 [==============================] - 3s 2ms/step - loss: 0.0094 - val_loss: 0.0104\n",
      "Epoch 21/100\n",
      "1316/1316 [==============================] - 3s 2ms/step - loss: 0.0094 - val_loss: 0.0104\n",
      "Epoch 22/100\n",
      "1316/1316 [==============================] - 3s 2ms/step - loss: 0.0094 - val_loss: 0.0104\n",
      "Epoch 23/100\n",
      "1316/1316 [==============================] - 3s 2ms/step - loss: 0.0094 - val_loss: 0.0104\n",
      "Epoch 24/100\n",
      "1316/1316 [==============================] - 3s 2ms/step - loss: 0.0094 - val_loss: 0.0104\n",
      "Epoch 25/100\n",
      "1316/1316 [==============================] - 3s 2ms/step - loss: 0.0094 - val_loss: 0.0104\n",
      "Epoch 26/100\n",
      "1316/1316 [==============================] - 3s 2ms/step - loss: 0.0094 - val_loss: 0.0104\n",
      "Epoch 27/100\n",
      "1316/1316 [==============================] - 3s 2ms/step - loss: 0.0094 - val_loss: 0.0104\n",
      "Epoch 28/100\n",
      "1316/1316 [==============================] - 3s 2ms/step - loss: 0.0095 - val_loss: 0.0104\n",
      "Epoch 29/100\n",
      "1316/1316 [==============================] - 3s 2ms/step - loss: 0.0095 - val_loss: 0.0104\n",
      "Epoch 30/100\n",
      "1316/1316 [==============================] - 3s 2ms/step - loss: 0.0095 - val_loss: 0.0104\n",
      "Epoch 31/100\n",
      "1316/1316 [==============================] - 3s 2ms/step - loss: 0.0095 - val_loss: 0.0104\n",
      "Epoch 32/100\n",
      "1316/1316 [==============================] - 3s 2ms/step - loss: 0.0095 - val_loss: 0.0104\n",
      "Epoch 33/100\n",
      "1316/1316 [==============================] - 3s 2ms/step - loss: 0.0095 - val_loss: 0.0104\n",
      "Epoch 34/100\n",
      "1316/1316 [==============================] - 3s 2ms/step - loss: 0.0095 - val_loss: 0.0104\n",
      "Epoch 35/100\n",
      "1316/1316 [==============================] - 3s 2ms/step - loss: 0.0095 - val_loss: 0.0104\n",
      "Epoch 36/100\n",
      "1316/1316 [==============================] - 3s 2ms/step - loss: 0.0095 - val_loss: 0.0104\n",
      "Epoch 37/100\n",
      "1316/1316 [==============================] - 3s 2ms/step - loss: 0.0095 - val_loss: 0.0104\n",
      "Epoch 38/100\n",
      "1316/1316 [==============================] - 3s 2ms/step - loss: 0.0095 - val_loss: 0.0104\n",
      "Epoch 39/100\n",
      "1316/1316 [==============================] - 3s 2ms/step - loss: 0.0095 - val_loss: 0.0105\n",
      "Epoch 40/100\n",
      "1316/1316 [==============================] - 3s 2ms/step - loss: 0.0095 - val_loss: 0.0105\n",
      "Epoch 41/100\n",
      "1316/1316 [==============================] - 3s 2ms/step - loss: 0.0095 - val_loss: 0.0105\n",
      "Epoch 42/100\n",
      "1316/1316 [==============================] - 3s 2ms/step - loss: 0.0095 - val_loss: 0.0105\n",
      "Epoch 43/100\n",
      "1316/1316 [==============================] - 3s 2ms/step - loss: 0.0095 - val_loss: 0.0105\n",
      "Epoch 44/100\n",
      "1316/1316 [==============================] - 3s 2ms/step - loss: 0.0095 - val_loss: 0.0105\n",
      "Epoch 45/100\n",
      "1316/1316 [==============================] - 3s 2ms/step - loss: 0.0095 - val_loss: 0.0105\n",
      "Epoch 46/100\n",
      "1316/1316 [==============================] - 3s 2ms/step - loss: 0.0096 - val_loss: 0.0105\n",
      "Epoch 47/100\n",
      "1316/1316 [==============================] - 3s 2ms/step - loss: 0.0096 - val_loss: 0.0105\n",
      "Epoch 48/100\n",
      "1316/1316 [==============================] - 3s 2ms/step - loss: 0.0096 - val_loss: 0.0105\n",
      "Epoch 49/100\n",
      "1316/1316 [==============================] - 3s 2ms/step - loss: 0.0096 - val_loss: 0.0105\n",
      "Epoch 50/100\n",
      "1316/1316 [==============================] - 3s 2ms/step - loss: 0.0096 - val_loss: 0.0106\n",
      "Epoch 51/100\n",
      "1316/1316 [==============================] - 3s 2ms/step - loss: 0.0096 - val_loss: 0.0106\n",
      "Epoch 52/100\n",
      "1316/1316 [==============================] - 3s 2ms/step - loss: 0.0096 - val_loss: 0.0106\n",
      "Epoch 53/100\n",
      "1316/1316 [==============================] - 3s 2ms/step - loss: 0.0096 - val_loss: 0.0106\n",
      "Epoch 54/100\n",
      "1316/1316 [==============================] - 3s 3ms/step - loss: 0.0096 - val_loss: 0.0106\n",
      "Epoch 55/100\n",
      "1316/1316 [==============================] - 3s 2ms/step - loss: 0.0096 - val_loss: 0.0106\n",
      "Epoch 56/100\n",
      "1316/1316 [==============================] - 3s 3ms/step - loss: 0.0096 - val_loss: 0.0106\n",
      "Epoch 57/100\n",
      "1316/1316 [==============================] - 3s 2ms/step - loss: 0.0096 - val_loss: 0.0106\n",
      "Epoch 58/100\n",
      "1316/1316 [==============================] - 3s 2ms/step - loss: 0.0096 - val_loss: 0.0106\n",
      "Epoch 59/100\n",
      "1316/1316 [==============================] - 3s 2ms/step - loss: 0.0096 - val_loss: 0.0106\n",
      "Epoch 60/100\n",
      "1316/1316 [==============================] - 4s 3ms/step - loss: 0.0096 - val_loss: 0.0106\n",
      "Epoch 61/100\n",
      "1316/1316 [==============================] - 4s 3ms/step - loss: 0.0096 - val_loss: 0.0106\n",
      "Epoch 62/100\n",
      "1316/1316 [==============================] - 3s 3ms/step - loss: 0.0096 - val_loss: 0.0106\n",
      "Epoch 63/100\n",
      "1316/1316 [==============================] - 3s 2ms/step - loss: 0.0096 - val_loss: 0.0106\n",
      "Epoch 64/100\n",
      "1316/1316 [==============================] - 4s 3ms/step - loss: 0.0096 - val_loss: 0.0106\n",
      "Epoch 65/100\n",
      "1316/1316 [==============================] - 3s 2ms/step - loss: 0.0096 - val_loss: 0.0106\n",
      "Epoch 66/100\n",
      "1316/1316 [==============================] - 3s 2ms/step - loss: 0.0096 - val_loss: 0.0106\n",
      "Epoch 67/100\n",
      "1316/1316 [==============================] - 3s 2ms/step - loss: 0.0096 - val_loss: 0.0106\n",
      "Epoch 68/100\n",
      "1316/1316 [==============================] - 4s 3ms/step - loss: 0.0096 - val_loss: 0.0106- ETA: \n",
      "Epoch 69/100\n",
      "1316/1316 [==============================] - 5s 3ms/step - loss: 0.0096 - val_loss: 0.0106\n",
      "Epoch 70/100\n",
      "1316/1316 [==============================] - 4s 3ms/step - loss: 0.0096 - val_loss: 0.0106\n",
      "Epoch 71/100\n",
      "1316/1316 [==============================] - 4s 3ms/step - loss: 0.0096 - val_loss: 0.0106\n",
      "Epoch 72/100\n",
      "1316/1316 [==============================] - 4s 3ms/step - loss: 0.0095 - val_loss: 0.0106\n",
      "Epoch 73/100\n",
      "1316/1316 [==============================] - 5s 4ms/step - loss: 0.0095 - val_loss: 0.0106\n",
      "Epoch 74/100\n",
      "1316/1316 [==============================] - 4s 3ms/step - loss: 0.0095 - val_loss: 0.0106\n",
      "Epoch 75/100\n",
      "1316/1316 [==============================] - 4s 3ms/step - loss: 0.0095 - val_loss: 0.0106\n",
      "Epoch 76/100\n",
      "1316/1316 [==============================] - 5s 3ms/step - loss: 0.0095 - val_loss: 0.0106\n",
      "Epoch 77/100\n",
      "1316/1316 [==============================] - 4s 3ms/step - loss: 0.0095 - val_loss: 0.0105\n",
      "Epoch 78/100\n",
      "1316/1316 [==============================] - 4s 3ms/step - loss: 0.0095 - val_loss: 0.0105\n",
      "Epoch 79/100\n"
     ]
    },
    {
     "name": "stdout",
     "output_type": "stream",
     "text": [
      "1316/1316 [==============================] - 4s 3ms/step - loss: 0.0095 - val_loss: 0.0105\n",
      "Epoch 80/100\n",
      "1316/1316 [==============================] - 4s 3ms/step - loss: 0.0095 - val_loss: 0.0105\n",
      "Epoch 81/100\n",
      "1316/1316 [==============================] - 4s 3ms/step - loss: 0.0095 - val_loss: 0.0105\n",
      "Epoch 82/100\n",
      "1316/1316 [==============================] - 4s 3ms/step - loss: 0.0095 - val_loss: 0.0105\n",
      "Epoch 83/100\n",
      "1316/1316 [==============================] - 4s 3ms/step - loss: 0.0095 - val_loss: 0.0105\n",
      "Epoch 84/100\n",
      "1316/1316 [==============================] - 4s 3ms/step - loss: 0.0094 - val_loss: 0.0105\n",
      "Epoch 85/100\n",
      "1316/1316 [==============================] - 4s 3ms/step - loss: 0.0094 - val_loss: 0.0105\n",
      "Epoch 86/100\n",
      "1316/1316 [==============================] - 4s 3ms/step - loss: 0.0094 - val_loss: 0.0105\n",
      "Epoch 87/100\n",
      "1316/1316 [==============================] - 4s 3ms/step - loss: 0.0094 - val_loss: 0.0105\n",
      "Epoch 88/100\n",
      "1316/1316 [==============================] - 4s 3ms/step - loss: 0.0094 - val_loss: 0.0105\n",
      "Epoch 89/100\n",
      "1316/1316 [==============================] - 4s 3ms/step - loss: 0.0094 - val_loss: 0.0105\n",
      "Epoch 90/100\n",
      "1316/1316 [==============================] - 4s 3ms/step - loss: 0.0094 - val_loss: 0.0105\n",
      "Epoch 91/100\n",
      "1316/1316 [==============================] - 4s 3ms/step - loss: 0.0094 - val_loss: 0.0105\n",
      "Epoch 92/100\n",
      "1316/1316 [==============================] - 4s 3ms/step - loss: 0.0094 - val_loss: 0.0105\n",
      "Epoch 93/100\n",
      "1316/1316 [==============================] - 4s 3ms/step - loss: 0.0094 - val_loss: 0.0104\n",
      "Epoch 94/100\n",
      "1316/1316 [==============================] - 4s 3ms/step - loss: 0.0094 - val_loss: 0.0104\n",
      "Epoch 95/100\n",
      "1316/1316 [==============================] - 4s 3ms/step - loss: 0.0094 - val_loss: 0.0104\n",
      "Epoch 96/100\n",
      "1316/1316 [==============================] - 4s 3ms/step - loss: 0.0094 - val_loss: 0.0104\n",
      "Epoch 97/100\n",
      "1316/1316 [==============================] - 4s 3ms/step - loss: 0.0093 - val_loss: 0.0104\n",
      "Epoch 98/100\n",
      "1316/1316 [==============================] - 4s 3ms/step - loss: 0.0093 - val_loss: 0.0104\n",
      "Epoch 99/100\n",
      "1316/1316 [==============================] - 4s 3ms/step - loss: 0.0093 - val_loss: 0.0104\n",
      "Epoch 100/100\n",
      "1316/1316 [==============================] - 4s 3ms/step - loss: 0.0093 - val_loss: 0.0104\n"
     ]
    }
   ],
   "source": [
    "lstm_model, history = fit_lstm(train_scaled, test_scaled, 1, 100, 4)"
   ]
  },
  {
   "cell_type": "code",
   "execution_count": 237,
   "metadata": {},
   "outputs": [],
   "source": [
    "predictions = list()\n",
    "for i in range(len(test_scaled)):\n",
    "    # make one-step forecast\n",
    "    X, y = test_scaled[i, 0:-1], test_scaled[i, -1]\n",
    "    yhat = forecast_lstm(lstm_model, 1, X)\n",
    "    # invert scaling\n",
    "    yhat = invert_scale(scaler, X, yhat)\n",
    "    # invert differencing\n",
    "    yhat = inverse_difference(raw_values, yhat, len(test_scaled)+1-i)\n",
    "    # store forecast\n",
    "    predictions.append(yhat)\n",
    "    expected = raw_values[len(train) + i + 1]"
   ]
  },
  {
   "cell_type": "code",
   "execution_count": 238,
   "metadata": {},
   "outputs": [],
   "source": [
    "train_predictions = list()\n",
    "for i in range(len(train_scaled)):\n",
    "    # make one-step forecast\n",
    "    X, y = train_scaled[i, 0:-1], train_scaled[i, -1]\n",
    "    yhat = forecast_lstm(lstm_model, 1, X)\n",
    "    # invert scaling\n",
    "    yhat = invert_scale(scaler, X, yhat)\n",
    "    # invert differencing\n",
    "    yhat = inverse_difference(raw_values, yhat, -i)\n",
    "    # store forecast\n",
    "    train_predictions.append(yhat)"
   ]
  },
  {
   "cell_type": "code",
   "execution_count": 239,
   "metadata": {},
   "outputs": [
    {
     "name": "stdout",
     "output_type": "stream",
     "text": [
      "Test RMSE: 255.197\n",
      "Train RMSE: 140.293\n"
     ]
    }
   ],
   "source": [
    "rmse = sqrt(mean_squared_error(raw_values[train_size + 1:], predictions))\n",
    "print('Test RMSE: %.3f' % rmse)\n",
    "\n",
    "train_rmse = sqrt(mean_squared_error(raw_values[:train_size ], train_predictions))\n",
    "print('Train RMSE: %.3f' % train_rmse)"
   ]
  },
  {
   "cell_type": "code",
   "execution_count": 240,
   "metadata": {},
   "outputs": [
    {
     "data": {
      "text/plain": [
       "[<matplotlib.lines.Line2D at 0x21c728f1588>]"
      ]
     },
     "execution_count": 240,
     "metadata": {},
     "output_type": "execute_result"
    },
    {
     "data": {
      "image/png": "[encoded data removed]",
      "text/plain": [
       "<Figure size 432x288 with 1 Axes>"
      ]
     },
     "metadata": {},
     "output_type": "display_data"
    }
   ],
   "source": [
    "plt.plot(raw_values[train_size + 1:])\n",
    "plt.plot(predictions, alpha = .6)"
   ]
  },
  {
   "cell_type": "code",
   "execution_count": 241,
   "metadata": {},
   "outputs": [
    {
     "data": {
      "text/plain": [
       "[<matplotlib.lines.Line2D at 0x21c71fc8b00>]"
      ]
     },
     "execution_count": 241,
     "metadata": {},
     "output_type": "execute_result"
    },
    {
     "data": {
      "image/png": "[encoded data removed]",
      "text/plain": [
       "<Figure size 432x288 with 1 Axes>"
      ]
     },
     "metadata": {},
     "output_type": "display_data"
    }
   ],
   "source": [
    "plt.plot(raw_values[:train_size ])\n",
    "plt.plot(train_predictions, alpha = .6)\n"
   ]
  },
  {
   "cell_type": "code",
   "execution_count": 242,
   "metadata": {},
   "outputs": [
    {
     "data": {
      "text/plain": [
       "[<matplotlib.lines.Line2D at 0x21c7397f2e8>]"
      ]
     },
     "execution_count": 242,
     "metadata": {},
     "output_type": "execute_result"
    },
    {
     "data": {
      "image/png": "[encoded data removed]",
      "text/plain": [
       "<Figure size 432x288 with 1 Axes>"
      ]
     },
     "metadata": {},
     "output_type": "display_data"
    }
   ],
   "source": [
    "plt.plot(raw_values)\n",
    "plt.plot(train_predictions)\n",
    "plt.plot([None for x in train_predictions] + [x for x in predictions])"
   ]
  },
  {
   "cell_type": "code",
   "execution_count": null,
   "metadata": {},
   "outputs": [],
   "source": []
  }
 ],
 "metadata": {
  "kernelspec": {
   "display_name": "Python 3",
   "language": "python",
   "name": "python3"
  },
  "language_info": {
   "codemirror_mode": {
    "name": "ipython",
    "version": 3
   },
   "file_extension": ".py",
   "mimetype": "text/x-python",
   "name": "python",
   "nbconvert_exporter": "python",
   "pygments_lexer": "ipython3",
   "version": "3.6.5"
  }
 },
 "nbformat": 4,
 "nbformat_minor": 2
}
